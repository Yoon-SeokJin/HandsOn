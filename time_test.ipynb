{
 "cells": [
  {
   "cell_type": "code",
   "execution_count": 8,
   "metadata": {},
   "outputs": [
    {
     "data": {
      "text/plain": [
       "array([[[    0,     1,     2, ...,     7,     8,     9],\n",
       "        [ 1000,  1001,  1002, ...,  1007,  1008,  1009],\n",
       "        [ 2000,  2001,  2002, ...,  2007,  2008,  2009],\n",
       "        ...,\n",
       "        [97000, 97001, 97002, ..., 97007, 97008, 97009],\n",
       "        [98000, 98001, 98002, ..., 98007, 98008, 98009],\n",
       "        [99000, 99001, 99002, ..., 99007, 99008, 99009]],\n",
       "\n",
       "       [[   10,    11,    12, ...,    17,    18,    19],\n",
       "        [ 1010,  1011,  1012, ...,  1017,  1018,  1019],\n",
       "        [ 2010,  2011,  2012, ...,  2017,  2018,  2019],\n",
       "        ...,\n",
       "        [97010, 97011, 97012, ..., 97017, 97018, 97019],\n",
       "        [98010, 98011, 98012, ..., 98017, 98018, 98019],\n",
       "        [99010, 99011, 99012, ..., 99017, 99018, 99019]],\n",
       "\n",
       "       [[   20,    21,    22, ...,    27,    28,    29],\n",
       "        [ 1020,  1021,  1022, ...,  1027,  1028,  1029],\n",
       "        [ 2020,  2021,  2022, ...,  2027,  2028,  2029],\n",
       "        ...,\n",
       "        [97020, 97021, 97022, ..., 97027, 97028, 97029],\n",
       "        [98020, 98021, 98022, ..., 98027, 98028, 98029],\n",
       "        [99020, 99021, 99022, ..., 99027, 99028, 99029]],\n",
       "\n",
       "       ...,\n",
       "\n",
       "       [[  970,   971,   972, ...,   977,   978,   979],\n",
       "        [ 1970,  1971,  1972, ...,  1977,  1978,  1979],\n",
       "        [ 2970,  2971,  2972, ...,  2977,  2978,  2979],\n",
       "        ...,\n",
       "        [97970, 97971, 97972, ..., 97977, 97978, 97979],\n",
       "        [98970, 98971, 98972, ..., 98977, 98978, 98979],\n",
       "        [99970, 99971, 99972, ..., 99977, 99978, 99979]],\n",
       "\n",
       "       [[  980,   981,   982, ...,   987,   988,   989],\n",
       "        [ 1980,  1981,  1982, ...,  1987,  1988,  1989],\n",
       "        [ 2980,  2981,  2982, ...,  2987,  2988,  2989],\n",
       "        ...,\n",
       "        [97980, 97981, 97982, ..., 97987, 97988, 97989],\n",
       "        [98980, 98981, 98982, ..., 98987, 98988, 98989],\n",
       "        [99980, 99981, 99982, ..., 99987, 99988, 99989]],\n",
       "\n",
       "       [[  990,   991,   992, ...,   997,   998,   999],\n",
       "        [ 1990,  1991,  1992, ...,  1997,  1998,  1999],\n",
       "        [ 2990,  2991,  2992, ...,  2997,  2998,  2999],\n",
       "        ...,\n",
       "        [97990, 97991, 97992, ..., 97997, 97998, 97999],\n",
       "        [98990, 98991, 98992, ..., 98997, 98998, 98999],\n",
       "        [99990, 99991, 99992, ..., 99997, 99998, 99999]]])"
      ]
     },
     "execution_count": 8,
     "metadata": {},
     "output_type": "execute_result"
    }
   ],
   "source": [
    "from timeit import timeit\n",
    "import numpy as np\n",
    "\n",
    "a = np.arange(100000).reshape(100, 100, 10).swapaxes(0, 1)\n",
    "a"
   ]
  },
  {
   "cell_type": "code",
   "execution_count": 9,
   "metadata": {},
   "outputs": [
    {
     "data": {
      "text/plain": [
       "array([    0,     1,     2, ..., 99997, 99998, 99999])"
      ]
     },
     "execution_count": 9,
     "metadata": {},
     "output_type": "execute_result"
    }
   ],
   "source": [
    "a.ravel(order='C')"
   ]
  },
  {
   "cell_type": "code",
   "execution_count": 10,
   "metadata": {},
   "outputs": [
    {
     "data": {
      "text/plain": [
       "array([    0,     1,     2, ..., 99997, 99998, 99999])"
      ]
     },
     "execution_count": 10,
     "metadata": {},
     "output_type": "execute_result"
    }
   ],
   "source": [
    "a.ravel(order='K')"
   ]
  },
  {
   "cell_type": "code",
   "execution_count": 15,
   "metadata": {},
   "outputs": [
    {
     "data": {
      "text/plain": [
       "99.7905829"
      ]
     },
     "execution_count": 15,
     "metadata": {},
     "output_type": "execute_result"
    }
   ],
   "source": [
    "timeit(\"a.ravel(order='C')\", globals = {'a': a})"
   ]
  },
  {
   "cell_type": "code",
   "execution_count": 16,
   "metadata": {},
   "outputs": [
    {
     "data": {
      "text/plain": [
       "91.62753620000001"
      ]
     },
     "execution_count": 16,
     "metadata": {},
     "output_type": "execute_result"
    }
   ],
   "source": [
    "timeit(\"a.ravel(order='A')\", globals = {'a': a})"
   ]
  },
  {
   "cell_type": "code",
   "execution_count": 16,
   "metadata": {},
   "outputs": [
    {
     "data": {
      "text/plain": [
       "numpy.ndarray"
      ]
     },
     "execution_count": 16,
     "metadata": {},
     "output_type": "execute_result"
    }
   ],
   "source": [
    "import numpy as np\n",
    "import gym\n",
    "env = gym.make('CartPole-v0')\n",
    "obs = env.reset()\n",
    "type(obs)"
   ]
  },
  {
   "cell_type": "code",
   "execution_count": 14,
   "metadata": {},
   "outputs": [
    {
     "data": {
      "text/plain": [
       "<tf.Tensor: shape=(1, 1), dtype=bool, numpy=array([[False]])>"
      ]
     },
     "execution_count": 14,
     "metadata": {},
     "output_type": "execute_result"
    }
   ],
   "source": [
    "import tensorflow as tf\n",
    "tf.random.uniform([1, 1]) > 0.5"
   ]
  }
 ],
 "metadata": {
  "kernelspec": {
   "display_name": "Python 3.9.12 ('HandsOn')",
   "language": "python",
   "name": "python3"
  },
  "language_info": {
   "codemirror_mode": {
    "name": "ipython",
    "version": 3
   },
   "file_extension": ".py",
   "mimetype": "text/x-python",
   "name": "python",
   "nbconvert_exporter": "python",
   "pygments_lexer": "ipython3",
   "version": "3.9.12"
  },
  "orig_nbformat": 4,
  "vscode": {
   "interpreter": {
    "hash": "aa4c35bd42ae979e21b4892d442e73cdd87d510760dd1b91f4329f0c8e2f5332"
   }
  }
 },
 "nbformat": 4,
 "nbformat_minor": 2
}
