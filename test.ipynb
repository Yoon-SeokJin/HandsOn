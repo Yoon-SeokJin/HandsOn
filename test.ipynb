{
 "cells": [
  {
   "cell_type": "code",
   "execution_count": 1,
   "metadata": {},
   "outputs": [],
   "source": [
    "import tensorflow as tf\n",
    "from tensorflow import keras\n",
    "import numpy as np\n",
    "model = keras.models.Sequential()\n",
    "model.add(keras.Input(shape=(4,)))\n",
    "model.add(keras.layers.Dense(5, activation='elu'))\n",
    "model.add(keras.layers.Dense(1, activation='sigmoid'))\n",
    "obs = np.array([3, 2, 1, 3])\n",
    "loss_fn = keras.losses.binary_crossentropy\n",
    "left_proba = model(obs[np.newaxis])\n",
    "action = (tf.random.uniform([1, 1]) > left_proba)\n",
    "y_target = tf.constant([[1.]]) - tf.cast(action, tf.float32)\n",
    "loss = tf.reduce_mean(loss_fn(y_target, left_proba))"
   ]
  },
  {
   "cell_type": "code",
   "execution_count": 3,
   "metadata": {},
   "outputs": [
    {
     "data": {
      "text/plain": [
       "(TensorShape([1, 1]), TensorShape([1, 1]))"
      ]
     },
     "execution_count": 3,
     "metadata": {},
     "output_type": "execute_result"
    }
   ],
   "source": [
    "y_target.shape, left_proba.shape"
   ]
  }
 ],
 "metadata": {
  "kernelspec": {
   "display_name": "Python 3.9.12 ('HandsOn')",
   "language": "python",
   "name": "python3"
  },
  "language_info": {
   "codemirror_mode": {
    "name": "ipython",
    "version": 3
   },
   "file_extension": ".py",
   "mimetype": "text/x-python",
   "name": "python",
   "nbconvert_exporter": "python",
   "pygments_lexer": "ipython3",
   "version": "3.9.12"
  },
  "orig_nbformat": 4,
  "vscode": {
   "interpreter": {
    "hash": "aa4c35bd42ae979e21b4892d442e73cdd87d510760dd1b91f4329f0c8e2f5332"
   }
  }
 },
 "nbformat": 4,
 "nbformat_minor": 2
}
